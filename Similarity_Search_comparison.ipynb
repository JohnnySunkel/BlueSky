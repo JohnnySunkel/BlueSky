{
  "nbformat": 4,
  "nbformat_minor": 0,
  "metadata": {
    "colab": {
      "name": "Similarity Search comparison.ipynb",
      "provenance": [],
      "authorship_tag": "ABX9TyOs0TIk8u6/dCpd0wy+gezs",
      "include_colab_link": true
    },
    "kernelspec": {
      "name": "python3",
      "display_name": "Python 3"
    }
  },
  "cells": [
    {
      "cell_type": "markdown",
      "metadata": {
        "id": "view-in-github",
        "colab_type": "text"
      },
      "source": [
        "<a href=\"https://colab.research.google.com/github/JohnnySunkel/BlueSky/blob/master/Similarity_Search_comparison.ipynb\" target=\"_parent\"><img src=\"https://colab.research.google.com/assets/colab-badge.svg\" alt=\"Open In Colab\"/></a>"
      ]
    },
    {
      "cell_type": "code",
      "metadata": {
        "id": "0CwLjn_SaWvV",
        "colab_type": "code",
        "colab": {}
      },
      "source": [
        "import numpy as np\n",
        "import random\n",
        "from sklearn.neighbors import NearestNeighbors"
      ],
      "execution_count": 0,
      "outputs": []
    },
    {
      "cell_type": "code",
      "metadata": {
        "id": "TGsIvJo-Zf9c",
        "colab_type": "code",
        "colab": {}
      },
      "source": [
        "# Create a synthetic dataset to compare Approximate Nearest Neighbor algorithms\n",
        "num_items = 1000000\n",
        "num_dimensions = 100\n",
        "dataset = np.random.randn(num_items, num_dimensions)\n",
        "dataset /= np.linalg.norm(dataset, axis = 1).reshape(-1, 1)\n",
        "\n",
        "random_index = random.randint(0, num_items)\n",
        "query = dataset[random_index]"
      ],
      "execution_count": 0,
      "outputs": []
    },
    {
      "cell_type": "code",
      "metadata": {
        "id": "1OkS96uCbBgo",
        "colab_type": "code",
        "colab": {
          "base_uri": "https://localhost:8080/",
          "height": 34
        },
        "outputId": "96baafcd-52dd-44a9-c082-57a385bb9dc8"
      },
      "source": [
        "# Time the search for the brute force algorithm\n",
        "neighbors = NearestNeighbors(n_neighbors = 5,\n",
        "                             algorithm = 'brute',\n",
        "                             metric = 'euclidean').fit(dataset)\n",
        "%timeit distances, indices = neighbors.kneighbors([query])"
      ],
      "execution_count": 5,
      "outputs": [
        {
          "output_type": "stream",
          "text": [
            "1 loop, best of 3: 247 ms per loop\n"
          ],
          "name": "stdout"
        }
      ]
    },
    {
      "cell_type": "code",
      "metadata": {
        "id": "sCdtb53xdvdI",
        "colab_type": "code",
        "colab": {
          "base_uri": "https://localhost:8080/",
          "height": 205
        },
        "outputId": "404ac773-f4a2-4d82-8a2c-07335011c201"
      },
      "source": [
        "!pip install annoy"
      ],
      "execution_count": 7,
      "outputs": [
        {
          "output_type": "stream",
          "text": [
            "Collecting annoy\n",
            "\u001b[?25l  Downloading https://files.pythonhosted.org/packages/00/15/5a9db225ebda93a235aebd5e42bbf83ab7035e7e4783c6cb528c635c9afb/annoy-1.16.3.tar.gz (644kB)\n",
            "\r\u001b[K     |▌                               | 10kB 19.9MB/s eta 0:00:01\r\u001b[K     |█                               | 20kB 1.8MB/s eta 0:00:01\r\u001b[K     |█▌                              | 30kB 2.6MB/s eta 0:00:01\r\u001b[K     |██                              | 40kB 1.7MB/s eta 0:00:01\r\u001b[K     |██▌                             | 51kB 2.1MB/s eta 0:00:01\r\u001b[K     |███                             | 61kB 2.5MB/s eta 0:00:01\r\u001b[K     |███▋                            | 71kB 2.9MB/s eta 0:00:01\r\u001b[K     |████                            | 81kB 3.3MB/s eta 0:00:01\r\u001b[K     |████▋                           | 92kB 3.7MB/s eta 0:00:01\r\u001b[K     |█████                           | 102kB 2.9MB/s eta 0:00:01\r\u001b[K     |█████▋                          | 112kB 2.9MB/s eta 0:00:01\r\u001b[K     |██████                          | 122kB 2.9MB/s eta 0:00:01\r\u001b[K     |██████▋                         | 133kB 2.9MB/s eta 0:00:01\r\u001b[K     |███████▏                        | 143kB 2.9MB/s eta 0:00:01\r\u001b[K     |███████▋                        | 153kB 2.9MB/s eta 0:00:01\r\u001b[K     |████████▏                       | 163kB 2.9MB/s eta 0:00:01\r\u001b[K     |████████▋                       | 174kB 2.9MB/s eta 0:00:01\r\u001b[K     |█████████▏                      | 184kB 2.9MB/s eta 0:00:01\r\u001b[K     |█████████▋                      | 194kB 2.9MB/s eta 0:00:01\r\u001b[K     |██████████▏                     | 204kB 2.9MB/s eta 0:00:01\r\u001b[K     |██████████▊                     | 215kB 2.9MB/s eta 0:00:01\r\u001b[K     |███████████▏                    | 225kB 2.9MB/s eta 0:00:01\r\u001b[K     |███████████▊                    | 235kB 2.9MB/s eta 0:00:01\r\u001b[K     |████████████▏                   | 245kB 2.9MB/s eta 0:00:01\r\u001b[K     |████████████▊                   | 256kB 2.9MB/s eta 0:00:01\r\u001b[K     |█████████████▎                  | 266kB 2.9MB/s eta 0:00:01\r\u001b[K     |█████████████▊                  | 276kB 2.9MB/s eta 0:00:01\r\u001b[K     |██████████████▎                 | 286kB 2.9MB/s eta 0:00:01\r\u001b[K     |██████████████▊                 | 296kB 2.9MB/s eta 0:00:01\r\u001b[K     |███████████████▎                | 307kB 2.9MB/s eta 0:00:01\r\u001b[K     |███████████████▊                | 317kB 2.9MB/s eta 0:00:01\r\u001b[K     |████████████████▎               | 327kB 2.9MB/s eta 0:00:01\r\u001b[K     |████████████████▉               | 337kB 2.9MB/s eta 0:00:01\r\u001b[K     |█████████████████▎              | 348kB 2.9MB/s eta 0:00:01\r\u001b[K     |█████████████████▉              | 358kB 2.9MB/s eta 0:00:01\r\u001b[K     |██████████████████▎             | 368kB 2.9MB/s eta 0:00:01\r\u001b[K     |██████████████████▉             | 378kB 2.9MB/s eta 0:00:01\r\u001b[K     |███████████████████▎            | 389kB 2.9MB/s eta 0:00:01\r\u001b[K     |███████████████████▉            | 399kB 2.9MB/s eta 0:00:01\r\u001b[K     |████████████████████▍           | 409kB 2.9MB/s eta 0:00:01\r\u001b[K     |████████████████████▉           | 419kB 2.9MB/s eta 0:00:01\r\u001b[K     |█████████████████████▍          | 430kB 2.9MB/s eta 0:00:01\r\u001b[K     |█████████████████████▉          | 440kB 2.9MB/s eta 0:00:01\r\u001b[K     |██████████████████████▍         | 450kB 2.9MB/s eta 0:00:01\r\u001b[K     |██████████████████████▉         | 460kB 2.9MB/s eta 0:00:01\r\u001b[K     |███████████████████████▍        | 471kB 2.9MB/s eta 0:00:01\r\u001b[K     |████████████████████████        | 481kB 2.9MB/s eta 0:00:01\r\u001b[K     |████████████████████████▍       | 491kB 2.9MB/s eta 0:00:01\r\u001b[K     |█████████████████████████       | 501kB 2.9MB/s eta 0:00:01\r\u001b[K     |█████████████████████████▍      | 512kB 2.9MB/s eta 0:00:01\r\u001b[K     |██████████████████████████      | 522kB 2.9MB/s eta 0:00:01\r\u001b[K     |██████████████████████████▌     | 532kB 2.9MB/s eta 0:00:01\r\u001b[K     |███████████████████████████     | 542kB 2.9MB/s eta 0:00:01\r\u001b[K     |███████████████████████████▌    | 552kB 2.9MB/s eta 0:00:01\r\u001b[K     |████████████████████████████    | 563kB 2.9MB/s eta 0:00:01\r\u001b[K     |████████████████████████████▌   | 573kB 2.9MB/s eta 0:00:01\r\u001b[K     |█████████████████████████████   | 583kB 2.9MB/s eta 0:00:01\r\u001b[K     |█████████████████████████████▌  | 593kB 2.9MB/s eta 0:00:01\r\u001b[K     |██████████████████████████████  | 604kB 2.9MB/s eta 0:00:01\r\u001b[K     |██████████████████████████████▌ | 614kB 2.9MB/s eta 0:00:01\r\u001b[K     |███████████████████████████████ | 624kB 2.9MB/s eta 0:00:01\r\u001b[K     |███████████████████████████████▌| 634kB 2.9MB/s eta 0:00:01\r\u001b[K     |████████████████████████████████| 645kB 2.9MB/s \n",
            "\u001b[?25hBuilding wheels for collected packages: annoy\n",
            "  Building wheel for annoy (setup.py) ... \u001b[?25l\u001b[?25hdone\n",
            "  Created wheel for annoy: filename=annoy-1.16.3-cp36-cp36m-linux_x86_64.whl size=297364 sha256=f2192ff24d699262a5a91205e7799f40644c58fc2ef58721fbfbdfd6752af4ae\n",
            "  Stored in directory: /root/.cache/pip/wheels/f3/01/54/6ef760fe9f9fc6ba8c19cebbe6358212b5f3b5b0195c0b813f\n",
            "Successfully built annoy\n",
            "Installing collected packages: annoy\n",
            "Successfully installed annoy-1.16.3\n"
          ],
          "name": "stdout"
        }
      ]
    },
    {
      "cell_type": "code",
      "metadata": {
        "id": "dn161gxHdVck",
        "colab_type": "code",
        "colab": {}
      },
      "source": [
        "from annoy import AnnoyIndex"
      ],
      "execution_count": 0,
      "outputs": []
    },
    {
      "cell_type": "code",
      "metadata": {
        "id": "kcgUBKJ0d7F7",
        "colab_type": "code",
        "colab": {
          "base_uri": "https://localhost:8080/",
          "height": 87
        },
        "outputId": "e1a8ff08-bb1e-4493-bf79-f2b34024aee5"
      },
      "source": [
        "annoy_index = AnnoyIndex(num_dimensions)\n",
        "# Length of item vector that will be indexed\n",
        "for i in range(num_items):\n",
        "  annoy_index.add_item(i, dataset[i])\n",
        "# Build 40 trees\n",
        "annoy_index.build(40)\n",
        "\n",
        "%timeit annoy_index.get_nns_by_vector(query, 5, include_distances = True)"
      ],
      "execution_count": 5,
      "outputs": [
        {
          "output_type": "stream",
          "text": [
            "/usr/local/lib/python3.6/dist-packages/ipykernel_launcher.py:1: FutureWarning: The default argument for metric will be removed in future version of Annoy. Please pass metric='angular' explicitly.\n",
            "  \"\"\"Entry point for launching an IPython kernel.\n"
          ],
          "name": "stderr"
        },
        {
          "output_type": "stream",
          "text": [
            "10000 loops, best of 3: 48.2 µs per loop\n"
          ],
          "name": "stdout"
        }
      ]
    }
  ]
}