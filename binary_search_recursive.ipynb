{
  "nbformat": 4,
  "nbformat_minor": 0,
  "metadata": {
    "colab": {
      "name": "binary_search_recursive.ipynb",
      "provenance": [],
      "authorship_tag": "ABX9TyN+Q+Pr6TBRLzdEzw+dSlPN",
      "include_colab_link": true
    },
    "kernelspec": {
      "name": "python3",
      "display_name": "Python 3"
    }
  },
  "cells": [
    {
      "cell_type": "markdown",
      "metadata": {
        "id": "view-in-github",
        "colab_type": "text"
      },
      "source": [
        "<a href=\"https://colab.research.google.com/github/JohnnySunkel/BlueSky/blob/master/binary_search_recursive.ipynb\" target=\"_parent\"><img src=\"https://colab.research.google.com/assets/colab-badge.svg\" alt=\"Open In Colab\"/></a>"
      ]
    },
    {
      "cell_type": "code",
      "metadata": {
        "id": "S14vnFGGhZDL",
        "colab_type": "code",
        "colab": {}
      },
      "source": [
        "'''\n",
        "Define a function to perform recursive binary search on a sorted list of elements:\n",
        "\n",
        "1) there will be two inputs: a sorted list, and the item we're looking for\n",
        "2) for the base case, if the length of the list is zero, then we simply return False\n",
        "3) else set the midpoint of the list to the length of the list floor divided by 2\n",
        "4) if the midpoint of the list equals the item, then we have found the item and we return True\n",
        "5) else if the item is less than the midpoint of the list, perform binary search on the start of the list through the midpoint\n",
        "6) else if the item is greater than the midpoint of the list, preform binary search on the item after the midpoint through the end of the list\n",
        "'''\n",
        "\n",
        "def binary_search(alist, item):\n",
        "  '''\n",
        "  >>> alist = [1, 2, 3, 4, 5, 6, 7, 8, 9, 10, 11]\n",
        "  >>> binary_search(alist, 11)\n",
        "  True\n",
        "  '''\n",
        "  if len(alist) == 0:\n",
        "    return False\n",
        "  else:\n",
        "    midpoint = len(alist) // 2\n",
        "    if alist[midpoint] == item:\n",
        "      return True\n",
        "    else:\n",
        "      if item < alist[midpoint]:\n",
        "        return binary_search(alist[:midpoint], item)\n",
        "      else:\n",
        "        return binary_search(alist[midpoint + 1:], item)\n"
      ],
      "execution_count": 0,
      "outputs": []
    },
    {
      "cell_type": "code",
      "metadata": {
        "id": "YQKZCymUkHeQ",
        "colab_type": "code",
        "colab": {}
      },
      "source": [
        "alist = [1, 2, 3, 4, 5, 6, 7, 8, 9, 10, 11]"
      ],
      "execution_count": 0,
      "outputs": []
    },
    {
      "cell_type": "code",
      "metadata": {
        "id": "XzkiYqG2kMPo",
        "colab_type": "code",
        "colab": {
          "base_uri": "https://localhost:8080/",
          "height": 34
        },
        "outputId": "57030c47-c8b2-4e47-fa5d-c621d0dfbd49"
      },
      "source": [
        "binary_search(alist, 11)"
      ],
      "execution_count": 4,
      "outputs": [
        {
          "output_type": "execute_result",
          "data": {
            "text/plain": [
              "True"
            ]
          },
          "metadata": {
            "tags": []
          },
          "execution_count": 4
        }
      ]
    }
  ]
}