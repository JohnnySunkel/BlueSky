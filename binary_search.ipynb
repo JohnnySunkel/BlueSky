{
  "nbformat": 4,
  "nbformat_minor": 0,
  "metadata": {
    "colab": {
      "name": "binary_search.ipynb",
      "provenance": [],
      "authorship_tag": "ABX9TyMmIi8pqELhOoF//bfY3Ezg",
      "include_colab_link": true
    },
    "kernelspec": {
      "name": "python3",
      "display_name": "Python 3"
    }
  },
  "cells": [
    {
      "cell_type": "markdown",
      "metadata": {
        "id": "view-in-github",
        "colab_type": "text"
      },
      "source": [
        "<a href=\"https://colab.research.google.com/github/JohnnySunkel/BlueSky/blob/master/binary_search.ipynb\" target=\"_parent\"><img src=\"https://colab.research.google.com/assets/colab-badge.svg\" alt=\"Open In Colab\"/></a>"
      ]
    },
    {
      "cell_type": "code",
      "metadata": {
        "id": "lIlOWIXIUpUW",
        "colab_type": "code",
        "colab": {}
      },
      "source": [
        "'''\n",
        "Define a function to perform binary search on a sorted list of elements:\n",
        "\n",
        "1) there will be two inputs: a sorted list, and the item we're looking for\n",
        "2) we need the first element in the list, the last element, the midpoint, and an indicator variable to tell us if we have found the item\n",
        "3) assign the first element in the list to the variable 'first'\n",
        "4) assign the last element in the list to the variable 'last'\n",
        "5) assign the found/not found indicator to the variable 'found' and initialize it to False so that we can start searching\n",
        "6) while the first element in the list is less than or equal to the last element, and we have not found the item, calculate the midpoint\n",
        "  by adding 'first' and 'last' and floor dividing by 2\n",
        "7) if the midpoint of the list equals the item, then we have found the item and 'found' is True\n",
        "8) else if the item is less than the midpoint of the list, set the item before the midpoint to become the last item in the list\n",
        "9) else if the item is greater than the midpoint of the list, set the item after the midpoint to become the first item in the list\n",
        "10) return found (True) or not found (False) \n",
        "'''\n",
        "\n",
        "def binary_search(alist, item):\n",
        "  '''\n",
        "  >>> alist = [1, 2, 3, 4, 5, 6, 7, 8, 9, 10, 11]\n",
        "  >>> binary_search(alist, 11)\n",
        "  True\n",
        "  '''\n",
        "  first = 0\n",
        "  last = len(alist) - 1\n",
        "  found = False\n",
        "\n",
        "  while first <= last and not found:\n",
        "    midpoint = (first + last) // 2\n",
        "    if alist[midpoint] == item:\n",
        "      found = True\n",
        "    else:\n",
        "      if item < alist[midpoint]:\n",
        "        last = midpoint - 1\n",
        "      else:\n",
        "        first = midpoint + 1\n",
        "  return found \n"
      ],
      "execution_count": 0,
      "outputs": []
    },
    {
      "cell_type": "code",
      "metadata": {
        "id": "efTN9E5DZPI4",
        "colab_type": "code",
        "colab": {}
      },
      "source": [
        "# example list \n",
        "alist = [1, 2, 3, 4, 5, 6, 7, 8, 9, 10, 11]"
      ],
      "execution_count": 0,
      "outputs": []
    },
    {
      "cell_type": "code",
      "metadata": {
        "id": "qhhaeYtdZUqg",
        "colab_type": "code",
        "colab": {
          "base_uri": "https://localhost:8080/",
          "height": 34
        },
        "outputId": "51d1ab9b-913b-418a-d756-c9b606c74098"
      },
      "source": [
        "binary_search(alist, 11)"
      ],
      "execution_count": 7,
      "outputs": [
        {
          "output_type": "execute_result",
          "data": {
            "text/plain": [
              "True"
            ]
          },
          "metadata": {
            "tags": []
          },
          "execution_count": 7
        }
      ]
    }
  ]
}