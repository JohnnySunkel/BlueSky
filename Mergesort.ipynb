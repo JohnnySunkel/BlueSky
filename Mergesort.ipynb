{
  "nbformat": 4,
  "nbformat_minor": 0,
  "metadata": {
    "colab": {
      "name": "Mergesort.ipynb",
      "provenance": [],
      "authorship_tag": "ABX9TyPv07Q+jisqrG25/GcgR3H2",
      "include_colab_link": true
    },
    "kernelspec": {
      "name": "python3",
      "display_name": "Python 3"
    }
  },
  "cells": [
    {
      "cell_type": "markdown",
      "metadata": {
        "id": "view-in-github",
        "colab_type": "text"
      },
      "source": [
        "<a href=\"https://colab.research.google.com/github/JohnnySunkel/BlueSky/blob/master/Mergesort.ipynb\" target=\"_parent\"><img src=\"https://colab.research.google.com/assets/colab-badge.svg\" alt=\"Open In Colab\"/></a>"
      ]
    },
    {
      "cell_type": "code",
      "metadata": {
        "id": "bfFQPb6ZO3Ma",
        "colab_type": "code",
        "colab": {}
      },
      "source": [
        "def msort(x):\n",
        "  if len(x) < 2:\n",
        "    return x\n",
        "  result = []\n",
        "  mid = int(len(x) / 2)\n",
        "  y = msort(x[:mid])\n",
        "  z = msort(x[mid:])\n",
        "  while (len(y) > 0) and (len(z) > 0):\n",
        "    if y[0] > z[0]:\n",
        "      result.append(z[0])\n",
        "      z.pop(0)\n",
        "    else:\n",
        "      result.append(y[0])\n",
        "      y.pop(0)\n",
        "  result += z\n",
        "  result += y\n",
        "  return result"
      ],
      "execution_count": 0,
      "outputs": []
    },
    {
      "cell_type": "code",
      "metadata": {
        "id": "WSj0-dCMQjXl",
        "colab_type": "code",
        "colab": {}
      },
      "source": [
        "x = [10, 9, 8, 7, 6, 5, 4, 3, 2, 1]"
      ],
      "execution_count": 0,
      "outputs": []
    },
    {
      "cell_type": "code",
      "metadata": {
        "id": "pQM2sFGBRPlX",
        "colab_type": "code",
        "colab": {
          "base_uri": "https://localhost:8080/",
          "height": 34
        },
        "outputId": "4eb423e0-7672-4ce4-8b1c-deb589d79813"
      },
      "source": [
        "msort(x)"
      ],
      "execution_count": 20,
      "outputs": [
        {
          "output_type": "execute_result",
          "data": {
            "text/plain": [
              "[1, 2, 3, 4, 5, 6, 7, 8, 9, 10]"
            ]
          },
          "metadata": {
            "tags": []
          },
          "execution_count": 20
        }
      ]
    }
  ]
}