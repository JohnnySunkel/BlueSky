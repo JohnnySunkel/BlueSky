{
  "nbformat": 4,
  "nbformat_minor": 0,
  "metadata": {
    "colab": {
      "name": "greatest_common_divisor_recursive.ipynb",
      "provenance": [],
      "authorship_tag": "ABX9TyMF0wLBLEGjKLYhyN6+Ze3d",
      "include_colab_link": true
    },
    "kernelspec": {
      "name": "python3",
      "display_name": "Python 3"
    }
  },
  "cells": [
    {
      "cell_type": "markdown",
      "metadata": {
        "id": "view-in-github",
        "colab_type": "text"
      },
      "source": [
        "<a href=\"https://colab.research.google.com/github/JohnnySunkel/BlueSky/blob/master/greatest_common_divisor_recursive.ipynb\" target=\"_parent\"><img src=\"https://colab.research.google.com/assets/colab-badge.svg\" alt=\"Open In Colab\"/></a>"
      ]
    },
    {
      "cell_type": "code",
      "metadata": {
        "id": "JxcgkTnwAMOo",
        "colab_type": "code",
        "colab": {}
      },
      "source": [
        "'''\n",
        "Create a recursive function to calculate the greatest common divisor of two numbers:\n",
        "1) input will be two numbers\n",
        "2) for the base case, if the second number is zero, then simply return the first number\n",
        "3) else calculate the greatest common divisor of the second number and the remainder of first number divided by the second number\n",
        "'''\n",
        "\n",
        "def gcd(a, b):\n",
        "  if b == 0:\n",
        "    return a\n",
        "  else:\n",
        "    return gcd(b, a % b)"
      ],
      "execution_count": 0,
      "outputs": []
    },
    {
      "cell_type": "code",
      "metadata": {
        "id": "2KZ63V40BHsN",
        "colab_type": "code",
        "colab": {
          "base_uri": "https://localhost:8080/",
          "height": 34
        },
        "outputId": "5ae93726-576d-4c63-8f91-4fbd6b12f888"
      },
      "source": [
        "gcd(16, 8)"
      ],
      "execution_count": 24,
      "outputs": [
        {
          "output_type": "execute_result",
          "data": {
            "text/plain": [
              "8"
            ]
          },
          "metadata": {
            "tags": []
          },
          "execution_count": 24
        }
      ]
    }
  ]
}