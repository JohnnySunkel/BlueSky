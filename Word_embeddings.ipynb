{
  "nbformat": 4,
  "nbformat_minor": 0,
  "metadata": {
    "colab": {
      "name": "Word embeddings.ipynb",
      "provenance": [],
      "mount_file_id": "10QaGdWizWzug7356Ur8fxjNm3nYwWJlV",
      "authorship_tag": "ABX9TyPIqh1ScWN/r9FyZ+kS1+xR",
      "include_colab_link": true
    },
    "kernelspec": {
      "name": "python3",
      "display_name": "Python 3"
    }
  },
  "cells": [
    {
      "cell_type": "markdown",
      "metadata": {
        "id": "view-in-github",
        "colab_type": "text"
      },
      "source": [
        "<a href=\"https://colab.research.google.com/github/JohnnySunkel/BlueSky/blob/master/Word_embeddings.ipynb\" target=\"_parent\"><img src=\"https://colab.research.google.com/assets/colab-badge.svg\" alt=\"Open In Colab\"/></a>"
      ]
    },
    {
      "cell_type": "code",
      "metadata": {
        "id": "CM0FxMTg_d_y",
        "colab_type": "code",
        "colab": {}
      },
      "source": [
        "import numpy as np\n",
        "import pandas as pd\n",
        "import spacy\n",
        "import en_core_web_lg\n",
        "from sklearn.model_selection import train_test_split"
      ],
      "execution_count": 0,
      "outputs": []
    },
    {
      "cell_type": "code",
      "metadata": {
        "id": "TprQkmLX_8l-",
        "colab_type": "code",
        "colab": {}
      },
      "source": [
        "# Need to load the large model to get the vectors\n",
        "nlp = en_core_web_lg.load()"
      ],
      "execution_count": 0,
      "outputs": []
    },
    {
      "cell_type": "code",
      "metadata": {
        "id": "_XtqETqkMQCR",
        "colab_type": "code",
        "colab": {}
      },
      "source": [
        "# Load the spam dataset - 'ham' is the label for non-spam messages\n",
        "spam = pd.read_csv('drive/My Drive/spam.csv', encoding = 'latin-1')"
      ],
      "execution_count": 0,
      "outputs": []
    },
    {
      "cell_type": "code",
      "metadata": {
        "id": "RwOsF0E0Ahl1",
        "colab_type": "code",
        "colab": {}
      },
      "source": [
        "with nlp.disable_pipes():\n",
        "  doc_vectors = np.array([nlp(text).vector for text in spam.text])"
      ],
      "execution_count": 0,
      "outputs": []
    },
    {
      "cell_type": "code",
      "metadata": {
        "id": "BBPfXdo_FxQv",
        "colab_type": "code",
        "colab": {
          "base_uri": "https://localhost:8080/",
          "height": 34
        },
        "outputId": "67b81393-66f6-4435-856a-ab47f05be6fb"
      },
      "source": [
        "doc_vectors.shape"
      ],
      "execution_count": 29,
      "outputs": [
        {
          "output_type": "execute_result",
          "data": {
            "text/plain": [
              "(5572, 300)"
            ]
          },
          "metadata": {
            "tags": []
          },
          "execution_count": 29
        }
      ]
    },
    {
      "cell_type": "code",
      "metadata": {
        "id": "zrao3HzUb1gP",
        "colab_type": "code",
        "colab": {}
      },
      "source": [
        "X_train, X_test, y_train, y_test = train_test_split(doc_vectors,\n",
        "                                                    spam.label,\n",
        "                                                    test_size = 0.1,\n",
        "                                                    random_state = 1) "
      ],
      "execution_count": 0,
      "outputs": []
    }
  ]
}