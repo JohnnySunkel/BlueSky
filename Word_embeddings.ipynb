{
  "nbformat": 4,
  "nbformat_minor": 0,
  "metadata": {
    "colab": {
      "name": "Word embeddings.ipynb",
      "provenance": [],
      "mount_file_id": "https://github.com/JohnnySunkel/BlueSky/blob/master/Word_embeddings.ipynb",
      "authorship_tag": "ABX9TyNaTt5V4+YHmDWcI+Nd3ZL8",
      "include_colab_link": true
    },
    "kernelspec": {
      "name": "python3",
      "display_name": "Python 3"
    }
  },
  "cells": [
    {
      "cell_type": "markdown",
      "metadata": {
        "id": "view-in-github",
        "colab_type": "text"
      },
      "source": [
        "<a href=\"https://colab.research.google.com/github/JohnnySunkel/BlueSky/blob/master/Word_embeddings.ipynb\" target=\"_parent\"><img src=\"https://colab.research.google.com/assets/colab-badge.svg\" alt=\"Open In Colab\"/></a>"
      ]
    },
    {
      "cell_type": "code",
      "metadata": {
        "id": "CM0FxMTg_d_y",
        "colab_type": "code",
        "colab": {
          "base_uri": "https://localhost:8080/",
          "height": 50
        },
        "outputId": "d226de9f-4755-4216-f6b6-8ddad76f40c5"
      },
      "source": [
        "import numpy as np\n",
        "import pandas as pd\n",
        "import spacy\n",
        "import spacy.cli\n",
        "spacy.cli.download('en_core_web_lg')\n",
        "import en_core_web_lg\n",
        "from sklearn.model_selection import train_test_split\n",
        "from sklearn.svm import LinearSVC"
      ],
      "execution_count": 10,
      "outputs": [
        {
          "output_type": "stream",
          "text": [
            "\u001b[38;5;2m✔ Download and installation successful\u001b[0m\n",
            "You can now load the model via spacy.load('en_core_web_lg')\n"
          ],
          "name": "stdout"
        }
      ]
    },
    {
      "cell_type": "code",
      "metadata": {
        "id": "TprQkmLX_8l-",
        "colab_type": "code",
        "colab": {}
      },
      "source": [
        "# Need to load the large model to get the vectors\n",
        "nlp = en_core_web_lg.load()"
      ],
      "execution_count": 0,
      "outputs": []
    },
    {
      "cell_type": "code",
      "metadata": {
        "id": "_XtqETqkMQCR",
        "colab_type": "code",
        "colab": {}
      },
      "source": [
        "# Load the spam dataset - 'ham' is the label for non-spam messages\n",
        "spam = pd.read_csv('drive/My Drive/spam.csv', encoding = 'latin-1')"
      ],
      "execution_count": 0,
      "outputs": []
    },
    {
      "cell_type": "code",
      "metadata": {
        "id": "RwOsF0E0Ahl1",
        "colab_type": "code",
        "colab": {}
      },
      "source": [
        "with nlp.disable_pipes():\n",
        "  doc_vectors = np.array([nlp(text).vector for text in spam.text])"
      ],
      "execution_count": 0,
      "outputs": []
    },
    {
      "cell_type": "code",
      "metadata": {
        "id": "BBPfXdo_FxQv",
        "colab_type": "code",
        "outputId": "bb2ef1cb-ced4-4a8d-bea5-c1794df4ce43",
        "colab": {
          "base_uri": "https://localhost:8080/",
          "height": 34
        }
      },
      "source": [
        "doc_vectors.shape"
      ],
      "execution_count": 14,
      "outputs": [
        {
          "output_type": "execute_result",
          "data": {
            "text/plain": [
              "(5572, 300)"
            ]
          },
          "metadata": {
            "tags": []
          },
          "execution_count": 14
        }
      ]
    },
    {
      "cell_type": "code",
      "metadata": {
        "id": "zrao3HzUb1gP",
        "colab_type": "code",
        "colab": {}
      },
      "source": [
        "X_train, X_test, y_train, y_test = train_test_split(doc_vectors,\n",
        "                                                    spam.label,\n",
        "                                                    test_size = 0.1,\n",
        "                                                    random_state = 1) "
      ],
      "execution_count": 0,
      "outputs": []
    },
    {
      "cell_type": "code",
      "metadata": {
        "id": "_sH8eO9l4tS2",
        "colab_type": "code",
        "colab": {}
      },
      "source": [
        "# Set dual = False to speed up training, and it's not needed\n",
        "svc = LinearSVC(random_state = 1,\n",
        "                dual = False,\n",
        "                max_iter = 10000)"
      ],
      "execution_count": 0,
      "outputs": []
    },
    {
      "cell_type": "code",
      "metadata": {
        "id": "Lzn2FlTM5A_8",
        "colab_type": "code",
        "colab": {
          "base_uri": "https://localhost:8080/",
          "height": 84
        },
        "outputId": "ea441509-4ecf-491f-d60c-7262bac85776"
      },
      "source": [
        "svc.fit(X_train, y_train)"
      ],
      "execution_count": 17,
      "outputs": [
        {
          "output_type": "execute_result",
          "data": {
            "text/plain": [
              "LinearSVC(C=1.0, class_weight=None, dual=False, fit_intercept=True,\n",
              "          intercept_scaling=1, loss='squared_hinge', max_iter=10000,\n",
              "          multi_class='ovr', penalty='l2', random_state=1, tol=0.0001,\n",
              "          verbose=0)"
            ]
          },
          "metadata": {
            "tags": []
          },
          "execution_count": 17
        }
      ]
    },
    {
      "cell_type": "code",
      "metadata": {
        "id": "hLMTPbfG5I9P",
        "colab_type": "code",
        "colab": {
          "base_uri": "https://localhost:8080/",
          "height": 34
        },
        "outputId": "782ef3e8-3f24-4ac1-f11b-53dd7c669d53"
      },
      "source": [
        "print(f\"Accuracy: {svc.score(X_test, y_test) * 100:.3f}%\", )"
      ],
      "execution_count": 18,
      "outputs": [
        {
          "output_type": "stream",
          "text": [
            "Accuracy: 97.312%\n"
          ],
          "name": "stdout"
        }
      ]
    }
  ]
}