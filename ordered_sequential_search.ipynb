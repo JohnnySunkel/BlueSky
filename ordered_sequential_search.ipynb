{
  "nbformat": 4,
  "nbformat_minor": 0,
  "metadata": {
    "colab": {
      "name": "ordered_sequential_search.ipynb",
      "provenance": [],
      "authorship_tag": "ABX9TyOnR/yLFcgXFlNaCcjxkzMC",
      "include_colab_link": true
    },
    "kernelspec": {
      "name": "python3",
      "display_name": "Python 3"
    }
  },
  "cells": [
    {
      "cell_type": "markdown",
      "metadata": {
        "id": "view-in-github",
        "colab_type": "text"
      },
      "source": [
        "<a href=\"https://colab.research.google.com/github/JohnnySunkel/BlueSky/blob/master/ordered_sequential_search.ipynb\" target=\"_parent\"><img src=\"https://colab.research.google.com/assets/colab-badge.svg\" alt=\"Open In Colab\"/></a>"
      ]
    },
    {
      "cell_type": "code",
      "metadata": {
        "id": "mJKv6mE-ZNHk",
        "colab_type": "code",
        "colab": {}
      },
      "source": [
        "'''\n",
        "Create a function to perform sequential search on an ordered list:\n",
        "- Input is two items: an ordered list of items, and the item we're loooking for\n",
        "- Output will be 'True' if the item is found in the list, otherwise 'False'\n",
        "- we'll start at the first element in the list, and search the list sequentially one item at a time\n",
        "- we'll need an indicator to tell us when/if we have found the item we're looking for\n",
        "- we'll need an indicator to tell us to stop searching if the current position is greater than the item we're looking for\n",
        "1) create a variable named 'pos' to indicate our current position, and initialize it to index position 0\n",
        "2) create an indicator variable named 'found' and initialize it to False\n",
        "3) create an indicator variable named 'stop' and initialize it to False\n",
        "4) while the current position is less than the last item in the list, and the current position is less than the\n",
        "  item we're looking for, and we have not found the item, loop sequentially through each item in the list\n",
        "5) return found (True) or not found (False)\n",
        "'''\n",
        "\n",
        "def ordered_sequential_search(alist, item):\n",
        "  '''\n",
        "  >>> alist = [1, 2, 3, 4, 5, 6, 7, 8, 9, 10, 11]\n",
        "  >>> ordered_sequential_search(alist, 4)\n",
        "  True\n",
        "  '''\n",
        "  pos = 0\n",
        "  found = False\n",
        "  stop = False\n",
        "\n",
        "  while pos < len(alist) and not found and not stop:\n",
        "    if alist[pos] == item:\n",
        "      found = True\n",
        "    else:\n",
        "      if alist[pos] > item:\n",
        "        stop = True\n",
        "      else:\n",
        "        pos = pos + 1\n",
        "  return found"
      ],
      "execution_count": 0,
      "outputs": []
    },
    {
      "cell_type": "code",
      "metadata": {
        "id": "SSVNgAwubyG3",
        "colab_type": "code",
        "colab": {}
      },
      "source": [
        "alist = [1, 2, 3, 4, 5, 6, 7, 8, 9, 10, 11]"
      ],
      "execution_count": 0,
      "outputs": []
    },
    {
      "cell_type": "code",
      "metadata": {
        "id": "jD9gOBEYb26P",
        "colab_type": "code",
        "outputId": "3bee2340-b48f-4e49-c10c-7c559dae4ac7",
        "colab": {
          "base_uri": "https://localhost:8080/",
          "height": 34
        }
      },
      "source": [
        "ordered_sequential_search(alist, 4)"
      ],
      "execution_count": 5,
      "outputs": [
        {
          "output_type": "execute_result",
          "data": {
            "text/plain": [
              "True"
            ]
          },
          "metadata": {
            "tags": []
          },
          "execution_count": 5
        }
      ]
    }
  ]
}