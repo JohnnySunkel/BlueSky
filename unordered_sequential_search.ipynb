{
  "nbformat": 4,
  "nbformat_minor": 0,
  "metadata": {
    "colab": {
      "name": "unordered_sequential_search.ipynb",
      "provenance": [],
      "authorship_tag": "ABX9TyOKlvdJKqxMzam9odmltuVw",
      "include_colab_link": true
    },
    "kernelspec": {
      "name": "python3",
      "display_name": "Python 3"
    }
  },
  "cells": [
    {
      "cell_type": "markdown",
      "metadata": {
        "id": "view-in-github",
        "colab_type": "text"
      },
      "source": [
        "<a href=\"https://colab.research.google.com/github/JohnnySunkel/BlueSky/blob/master/unordered_sequential_search.ipynb\" target=\"_parent\"><img src=\"https://colab.research.google.com/assets/colab-badge.svg\" alt=\"Open In Colab\"/></a>"
      ]
    },
    {
      "cell_type": "code",
      "metadata": {
        "id": "4lwlVVVxPuhp",
        "colab_type": "code",
        "colab": {}
      },
      "source": [
        "'''\n",
        "Create a function to perform sequential search on an unordered list:\n",
        "- Input is two items: an unordered list of items, and the item we're loooking for\n",
        "- Output will be 'True' if the item is found in the list, otherwise 'False'\n",
        "- we'll start at the first element in the list, and search the list sequentially one item at a time\n",
        "- we'll need an indicator to tell us when/if we have found the item we're looking for\n",
        "1) create a variable named 'pos' to indicate our current position, and initialize it to index position 0\n",
        "2) create an indicator variable named 'found' and initialize it to False\n",
        "3) while the current position is less than the last item in the list, and we have not found the item, loop \n",
        "  sequentially through each item in the list\n",
        "4) return found (True) or not found (False)\n",
        "'''\n",
        "\n",
        "def unordered_sequential_search(alist, item):\n",
        "  '''\n",
        "  >>> alist = ['bird', 'cat', 'dog']\n",
        "  >>> unordered_sequential_search(alist, 'cat')\n",
        "  True\n",
        "  '''\n",
        "  pos = 0\n",
        "  found = False\n",
        "\n",
        "  while pos < len(alist) and not found:\n",
        "    if alist[pos] == item:\n",
        "      return True\n",
        "    else:\n",
        "      pos = pos + 1\n",
        "  return found"
      ],
      "execution_count": 0,
      "outputs": []
    },
    {
      "cell_type": "code",
      "metadata": {
        "id": "feq3tt6CToFu",
        "colab_type": "code",
        "colab": {}
      },
      "source": [
        "alist = ['bird', 'cat', 'dog']"
      ],
      "execution_count": 0,
      "outputs": []
    },
    {
      "cell_type": "code",
      "metadata": {
        "id": "3ajxqm7YTsw6",
        "colab_type": "code",
        "colab": {
          "base_uri": "https://localhost:8080/",
          "height": 34
        },
        "outputId": "9f0750b6-f081-4122-8c76-be9ff16a8b09"
      },
      "source": [
        "unordered_sequential_search(alist, 'cat')"
      ],
      "execution_count": 11,
      "outputs": [
        {
          "output_type": "execute_result",
          "data": {
            "text/plain": [
              "True"
            ]
          },
          "metadata": {
            "tags": []
          },
          "execution_count": 11
        }
      ]
    }
  ]
}