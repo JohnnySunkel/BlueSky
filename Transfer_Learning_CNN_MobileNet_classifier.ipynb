{
  "nbformat": 4,
  "nbformat_minor": 0,
  "metadata": {
    "colab": {
      "name": "Transfer Learning CNN MobileNet classifier.ipynb",
      "provenance": [],
      "authorship_tag": "ABX9TyPy9zcTk3ZdZMlf0NSzFDxc",
      "include_colab_link": true
    },
    "kernelspec": {
      "name": "python3",
      "display_name": "Python 3"
    }
  },
  "cells": [
    {
      "cell_type": "markdown",
      "metadata": {
        "id": "view-in-github",
        "colab_type": "text"
      },
      "source": [
        "<a href=\"https://colab.research.google.com/github/JohnnySunkel/BlueSky/blob/master/Transfer_Learning_CNN_MobileNet_classifier.ipynb\" target=\"_parent\"><img src=\"https://colab.research.google.com/assets/colab-badge.svg\" alt=\"Open In Colab\"/></a>"
      ]
    },
    {
      "cell_type": "code",
      "metadata": {
        "colab_type": "code",
        "id": "AqMh4xrEKxBj",
        "colab": {
          "base_uri": "https://localhost:8080/",
          "height": 722
        },
        "outputId": "fa98b4e1-0cc8-4c9e-d377-db3bb68aff46"
      },
      "source": [
        "import tensorflow as tf\n",
        "from tensorflow.keras.preprocessing.image import ImageDataGenerator\n",
        "from tensorflow.keras.models import Model\n",
        "from tensorflow.keras.layers import Input, Flatten, Dense, Dropout, GlobalAveragePooling2D\n",
        "from tensorflow.keras.applications.mobilenet import MobileNet, preprocess_input\n",
        "import math\n",
        "\n",
        "TRAIN_DATA_DIR = 'drive/My Drive/train'\n",
        "VALIDATION_DATA_DIR = 'drive/My Drive/validation'\n",
        "TRAIN_SAMPLES = 500\n",
        "VALIDATION_SAMPLES = 500\n",
        "NUM_CLASSES = 2\n",
        "IMG_WIDTH, IMG_HEIGHT = 224, 224\n",
        "BATCH_SIZE = 64\n",
        "\n",
        "train_datagen = ImageDataGenerator(preprocessing_function = preprocess_input,\n",
        "                                   rotation_range = 20,\n",
        "                                   width_shift_range = 0.2,\n",
        "                                   height_shift_range = 0.2,\n",
        "                                   zoom_range = 0.2)\n",
        "val_datagen = ImageDataGenerator(preprocessing_function = preprocess_input)\n",
        "\n",
        "train_generator = train_datagen.flow_from_directory(TRAIN_DATA_DIR,\n",
        "                                                    target_size = (IMG_WIDTH, IMG_HEIGHT),\n",
        "                                                    batch_size = BATCH_SIZE,\n",
        "                                                    shuffle = True,\n",
        "                                                    seed = 12345,\n",
        "                                                    class_mode = 'categorical')\n",
        "validation_generator = val_datagen.flow_from_directory(VALIDATION_DATA_DIR,\n",
        "                                                       target_size = (IMG_WIDTH, IMG_HEIGHT),\n",
        "                                                       batch_size = BATCH_SIZE,\n",
        "                                                       shuffle = False,\n",
        "                                                       class_mode = 'categorical')\n",
        "\n",
        "def model_maker():\n",
        "  base_model = MobileNet(include_top = False,\n",
        "                         input_shape = (IMG_WIDTH, IMG_HEIGHT, 3))\n",
        "  for layer in base_model.layers[:]:\n",
        "    layer.trainable = False\n",
        "  input = Input(shape = (IMG_WIDTH, IMG_HEIGHT, 3))\n",
        "  custom_model = base_model(input)\n",
        "  custom_model = GlobalAveragePooling2D()(custom_model)\n",
        "  custom_model = Dense(64, activation = 'relu')(custom_model)\n",
        "  custom_model = Dropout(0.5)(custom_model)\n",
        "  predictions = Dense(NUM_CLASSES, activation = 'softmax')(custom_model)\n",
        "  return Model(inputs = input, outputs = predictions)\n",
        "\n",
        "model = model_maker()\n",
        "model.compile(loss = 'categorical_crossentropy',\n",
        "              optimizer = tf.keras.optimizers.Adam(0.001),\n",
        "              metrics = ['acc'])\n",
        "model.fit_generator(train_generator,\n",
        "                    steps_per_epoch = math.ceil(float(TRAIN_SAMPLES) / BATCH_SIZE),\n",
        "                    epochs = 10,\n",
        "                    validation_data = validation_generator,\n",
        "                    validation_steps = math.ceil(float(VALIDATION_SAMPLES) / BATCH_SIZE))\n",
        "\n",
        "model.save('model.h5')"
      ],
      "execution_count": 9,
      "outputs": [
        {
          "output_type": "stream",
          "text": [
            "Found 2000 images belonging to 2 classes.\n",
            "Found 1000 images belonging to 2 classes.\n",
            "Epoch 1/10\n",
            "7/8 [=========================>....] - ETA: 14s - loss: 0.7519 - acc: 0.6585Epoch 1/10\n",
            "8/8 [==============================] - 110s 14s/step - loss: 0.0643 - acc: 0.9883\n",
            "8/8 [==============================] - 227s 28s/step - loss: 0.7140 - acc: 0.6797 - val_loss: 0.0643 - val_acc: 0.9883\n",
            "Epoch 2/10\n",
            "7/8 [=========================>....] - ETA: 7s - loss: 0.3229 - acc: 0.8705 Epoch 1/10\n",
            "8/8 [==============================] - 43s 5s/step - loss: 0.0586 - acc: 0.9824\n",
            "8/8 [==============================] - 95s 12s/step - loss: 0.2943 - acc: 0.8750 - val_loss: 0.0586 - val_acc: 0.9824\n",
            "Epoch 3/10\n",
            "7/8 [=========================>....] - ETA: 7s - loss: 0.2223 - acc: 0.8906 Epoch 1/10\n",
            "8/8 [==============================] - 43s 5s/step - loss: 0.0184 - acc: 0.9961\n",
            "8/8 [==============================] - 101s 13s/step - loss: 0.2201 - acc: 0.8945 - val_loss: 0.0184 - val_acc: 0.9961\n",
            "Epoch 4/10\n",
            "7/8 [=========================>....] - ETA: 7s - loss: 0.1887 - acc: 0.9152 Epoch 1/10\n",
            "8/8 [==============================] - 47s 6s/step - loss: 0.0258 - acc: 0.9922\n",
            "8/8 [==============================] - 107s 13s/step - loss: 0.1855 - acc: 0.9180 - val_loss: 0.0258 - val_acc: 0.9922\n",
            "Epoch 5/10\n",
            "7/8 [=========================>....] - ETA: 7s - loss: 0.1279 - acc: 0.9621 Epoch 1/10\n",
            "8/8 [==============================] - 40s 5s/step - loss: 0.0115 - acc: 0.9941\n",
            "8/8 [==============================] - 101s 13s/step - loss: 0.1321 - acc: 0.9609 - val_loss: 0.0115 - val_acc: 0.9941\n",
            "Epoch 6/10\n",
            "7/8 [=========================>....] - ETA: 6s - loss: 0.1321 - acc: 0.9500 Epoch 1/10\n",
            "8/8 [==============================] - 40s 5s/step - loss: 0.0307 - acc: 0.9922\n",
            "8/8 [==============================] - 97s 12s/step - loss: 0.1253 - acc: 0.9526 - val_loss: 0.0307 - val_acc: 0.9922\n",
            "Epoch 7/10\n",
            "7/8 [=========================>....] - ETA: 7s - loss: 0.1675 - acc: 0.9330 Epoch 1/10\n",
            "8/8 [==============================] - 40s 5s/step - loss: 0.0125 - acc: 0.9922\n",
            "8/8 [==============================] - 99s 12s/step - loss: 0.1697 - acc: 0.9336 - val_loss: 0.0125 - val_acc: 0.9922\n",
            "Epoch 8/10\n",
            "7/8 [=========================>....] - ETA: 6s - loss: 0.1394 - acc: 0.9464 Epoch 1/10\n",
            "8/8 [==============================] - 45s 6s/step - loss: 0.0476 - acc: 0.9805\n",
            "8/8 [==============================] - 103s 13s/step - loss: 0.1451 - acc: 0.9473 - val_loss: 0.0476 - val_acc: 0.9805\n",
            "Epoch 9/10\n",
            "7/8 [=========================>....] - ETA: 6s - loss: 0.1501 - acc: 0.9400 Epoch 1/10\n",
            "8/8 [==============================] - 40s 5s/step - loss: 0.0173 - acc: 0.9941\n",
            "8/8 [==============================] - 96s 12s/step - loss: 0.1432 - acc: 0.9418 - val_loss: 0.0173 - val_acc: 0.9941\n",
            "Epoch 10/10\n",
            "7/8 [=========================>....] - ETA: 7s - loss: 0.1284 - acc: 0.9576 Epoch 1/10\n",
            "8/8 [==============================] - 40s 5s/step - loss: 0.0358 - acc: 0.9902\n",
            "8/8 [==============================] - 101s 13s/step - loss: 0.1237 - acc: 0.9590 - val_loss: 0.0358 - val_acc: 0.9902\n"
          ],
          "name": "stdout"
        }
      ]
    }
  ]
}